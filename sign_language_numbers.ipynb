{
  "nbformat": 4,
  "nbformat_minor": 0,
  "metadata": {
    "colab": {
      "name": "sign_language_numbers.ipynb",
      "provenance": [],
      "collapsed_sections": [],
      "authorship_tag": "ABX9TyNxXP419KMU8VUygxhJhq3r",
      "include_colab_link": true
    },
    "kernelspec": {
      "name": "python3",
      "display_name": "Python 3"
    },
    "language_info": {
      "name": "python"
    }
  },
  "cells": [
    {
      "cell_type": "markdown",
      "metadata": {
        "id": "view-in-github",
        "colab_type": "text"
      },
      "source": [
        "<a href=\"https://colab.research.google.com/github/AmirMohamadBabaee/TF-sign-language-number-detection/blob/main/sign_language_numbers.ipynb\" target=\"_parent\"><img src=\"https://colab.research.google.com/assets/colab-badge.svg\" alt=\"Open In Colab\"/></a>"
      ]
    },
    {
      "cell_type": "markdown",
      "source": [
        "# Sign Language Number Detection\n",
        "In this notebook, I gonna implement a tensorflow model to detect the number that shown in pictures in sign language."
      ],
      "metadata": {
        "id": "xsBv4fti7S0u"
      }
    },
    {
      "cell_type": "markdown",
      "source": [
        "## Import Modules"
      ],
      "metadata": {
        "id": "e-hSREs28Bcq"
      }
    },
    {
      "cell_type": "code",
      "execution_count": null,
      "metadata": {
        "id": "4SHNzq6x6cq4"
      },
      "outputs": [],
      "source": [
        "import os\n",
        "import numpy as np\n",
        "import pandas as pd\n",
        "import matplotlib.pyplot as plt\n",
        "import tensorflow as tf\n",
        "import tensorflow.keras as keras"
      ]
    },
    {
      "cell_type": "markdown",
      "source": [
        "## check the version of Tensorflow"
      ],
      "metadata": {
        "id": "EFtxIerW8KZK"
      }
    },
    {
      "cell_type": "code",
      "source": [
        "tf.__version__"
      ],
      "metadata": {
        "colab": {
          "base_uri": "https://localhost:8080/",
          "height": 36
        },
        "id": "HHuPcvi_7Fdr",
        "outputId": "b022635e-4178-475d-f086-2df4056e129a"
      },
      "execution_count": null,
      "outputs": [
        {
          "output_type": "execute_result",
          "data": {
            "text/plain": [
              "'2.8.0'"
            ],
            "application/vnd.google.colaboratory.intrinsic+json": {
              "type": "string"
            }
          },
          "metadata": {},
          "execution_count": 2
        }
      ]
    },
    {
      "cell_type": "markdown",
      "source": [
        "## Download Dataset"
      ],
      "metadata": {
        "id": "MFzDRh4C6Cim"
      }
    },
    {
      "cell_type": "code",
      "source": [
        "!gdown --id 1UT_9id3u08GwOO4lW1-BQffqIsl8j7VY"
      ],
      "metadata": {
        "colab": {
          "base_uri": "https://localhost:8080/"
        },
        "id": "1yqS43rs9XBd",
        "outputId": "20be3817-61d2-489f-b290-fc379fe421e8"
      },
      "execution_count": null,
      "outputs": [
        {
          "output_type": "stream",
          "name": "stdout",
          "text": [
            "Downloading...\n",
            "From: https://drive.google.com/uc?id=1UT_9id3u08GwOO4lW1-BQffqIsl8j7VY\n",
            "To: /content/finger digit.zip\n",
            "100% 17.8M/17.8M [00:00<00:00, 76.0MB/s]\n"
          ]
        }
      ]
    },
    {
      "cell_type": "markdown",
      "source": [
        "## Unzip Dataset and check it"
      ],
      "metadata": {
        "id": "SyZAb4am6I2R"
      }
    },
    {
      "cell_type": "code",
      "source": [
        "!mkdir finger_digit\n",
        "!unzip 'finger digit.zip' -d ./finger_digit"
      ],
      "metadata": {
        "id": "jr2QSe0_9sh8"
      },
      "execution_count": null,
      "outputs": []
    },
    {
      "cell_type": "code",
      "source": [
        "train_data = os.listdir('./finger_digit/train')\n",
        "test_data = os.listdir('./finger_digit/test')"
      ],
      "metadata": {
        "id": "cnf0f4Dj_yK2"
      },
      "execution_count": null,
      "outputs": []
    },
    {
      "cell_type": "code",
      "source": [
        "class_extractor = lambda x : int((x.split('.')[0]).split('_')[-1])\n",
        "train_class_label = list(map(class_extractor, train_data))"
      ],
      "metadata": {
        "id": "WAoISEDv_Z9i"
      },
      "execution_count": null,
      "outputs": []
    },
    {
      "cell_type": "markdown",
      "source": [
        "## Preprocess Dataset"
      ],
      "metadata": {
        "id": "2bAd-_RI5-S3"
      }
    },
    {
      "cell_type": "code",
      "source": [
        "list_ds = tf.data.Dataset.list_files(str('./finger_digit/train/*.png'))\n",
        "i=0\n",
        "for f in list_ds.take(5):\n",
        "  print(f)\n",
        "  i += 1\n",
        "  image = tf.io.read_file(f)\n",
        "  image = tf.io.decode_png(image)\n",
        "  plt.subplot(1, 5, i)\n",
        "  plt.axis(False)\n",
        "  plt.imshow(tf.reshape(image, (128, 128)))"
      ],
      "metadata": {
        "colab": {
          "base_uri": "https://localhost:8080/",
          "height": 182
        },
        "id": "bGeUsK0iCDDt",
        "outputId": "c6781fef-5d56-4b9e-a753-d87146fb080b"
      },
      "execution_count": 117,
      "outputs": [
        {
          "output_type": "stream",
          "name": "stdout",
          "text": [
            "tf.Tensor(b'./finger_digit/train/7593_2.png', shape=(), dtype=string)\n",
            "tf.Tensor(b'./finger_digit/train/4693_3.png', shape=(), dtype=string)\n",
            "tf.Tensor(b'./finger_digit/train/4149_2.png', shape=(), dtype=string)\n",
            "tf.Tensor(b'./finger_digit/train/7215_4.png', shape=(), dtype=string)\n",
            "tf.Tensor(b'./finger_digit/train/4299_5.png', shape=(), dtype=string)\n"
          ]
        },
        {
          "output_type": "display_data",
          "data": {
            "text/plain": [
              "<Figure size 432x288 with 5 Axes>"
            ],
            "image/png": "[encoded data removed]"
          },
          "metadata": {
            "needs_background": "light"
          }
        }
      ]
    },
    {
      "cell_type": "code",
      "source": [
        "list_test_ds = tf.data.Dataset.list_files(str('./finger_digit/test/*.png'))\n",
        "i=0\n",
        "for f in list_test_ds.take(5):\n",
        "  print(f)\n",
        "  i += 1\n",
        "  image = tf.io.read_file(f)\n",
        "  image = tf.io.decode_png(image)\n",
        "  plt.subplot(1, 5, i)\n",
        "  plt.axis(False)\n",
        "  plt.imshow(tf.reshape(image, (128, 128)))"
      ],
      "metadata": {
        "colab": {
          "base_uri": "https://localhost:8080/",
          "height": 182
        },
        "id": "0MJGrSsrxuyM",
        "outputId": "db651258-df8b-4fa8-8388-a9da45cce591"
      },
      "execution_count": 116,
      "outputs": [
        {
          "output_type": "stream",
          "name": "stdout",
          "text": [
            "tf.Tensor(b'./finger_digit/test/1471.png', shape=(), dtype=string)\n",
            "tf.Tensor(b'./finger_digit/test/1097.png', shape=(), dtype=string)\n",
            "tf.Tensor(b'./finger_digit/test/468.png', shape=(), dtype=string)\n",
            "tf.Tensor(b'./finger_digit/test/1138.png', shape=(), dtype=string)\n",
            "tf.Tensor(b'./finger_digit/test/2922.png', shape=(), dtype=string)\n"
          ]
        },
        {
          "output_type": "display_data",
          "data": {
            "text/plain": [
              "<Figure size 432x288 with 5 Axes>"
            ],
            "image/png": "[encoded data removed]"
          },
          "metadata": {
            "needs_background": "light"
          }
        }
      ]
    },
    {
      "cell_type": "code",
      "source": [
        "def preprocess_dataset(file_path):\n",
        "  image_label = tf.strings.split(tf.strings.split(tf.strings.split(file_path, '/')[-1], '.')[0], '_')[-1]\n",
        "  image_label = int(image_label)\n",
        "  image = tf.io.read_file(file_path)\n",
        "  image = tf.io.decode_png(image)\n",
        "  image = image / 255\n",
        "  return image, image_label\n",
        "\n",
        "train_ds = list_ds.map(preprocess_dataset)\n",
        "for data in train_ds.take(1):\n",
        "  print(data)\n",
        "  print(tf.math.reduce_max(data[0]))\n",
        "  print(tf.math.reduce_min(data[0]))\n",
        "  plt.title(f'{data[1]}')\n",
        "  plt.axis(False)\n",
        "  plt.imshow(tf.reshape(data[0], (128, 128)))"
      ],
      "metadata": {
        "colab": {
          "base_uri": "https://localhost:8080/",
          "height": 1000
        },
        "id": "a36gt0VKIh08",
        "outputId": "08e19584-3aeb-441a-cae5-72420b05934d"
      },
      "execution_count": 106,
      "outputs": [
        {
          "output_type": "stream",
          "name": "stdout",
          "text": [
            "(<tf.Tensor: shape=(128, 128, 1), dtype=float32, numpy=\n",
            "array([[[0.],\n",
            "        [0.],\n",
            "        [0.],\n",
            "        ...,\n",
            "        [0.],\n",
            "        [0.],\n",
            "        [0.]],\n",
            "\n",
            "       [[0.],\n",
            "        [0.],\n",
            "        [0.],\n",
            "        ...,\n",
            "        [0.],\n",
            "        [0.],\n",
            "        [0.]],\n",
            "\n",
            "       [[0.],\n",
            "        [0.],\n",
            "        [0.],\n",
            "        ...,\n",
            "        [0.],\n",
            "        [0.],\n",
            "        [0.]],\n",
            "\n",
            "       ...,\n",
            "\n",
            "       [[0.],\n",
            "        [0.],\n",
            "        [0.],\n",
            "        ...,\n",
            "        [0.],\n",
            "        [0.],\n",
            "        [0.]],\n",
            "\n",
            "       [[0.],\n",
            "        [0.],\n",
            "        [0.],\n",
            "        ...,\n",
            "        [0.],\n",
            "        [0.],\n",
            "        [0.]],\n",
            "\n",
            "       [[0.],\n",
            "        [0.],\n",
            "        [0.],\n",
            "        ...,\n",
            "        [0.],\n",
            "        [0.],\n",
            "        [0.]]], dtype=float32)>, <tf.Tensor: shape=(), dtype=int32, numpy=3>)\n",
            "tf.Tensor(1.0, shape=(), dtype=float32)\n",
            "tf.Tensor(0.0, shape=(), dtype=float32)\n"
          ]
        },
        {
          "output_type": "display_data",
          "data": {
            "text/plain": [
              "<Figure size 432x288 with 1 Axes>"
            ],
            "image/png": "[encoded data removed]"
          },
          "metadata": {
            "needs_background": "light"
          }
        }
      ]
    },
    {
      "cell_type": "code",
      "source": [
        "def preprocess_test_dataset(file_path):\n",
        "  image = tf.io.read_file(file_path)\n",
        "  image = tf.io.decode_png(image)\n",
        "  image = image / 255\n",
        "  return image\n",
        "\n",
        "test_ds = list_test_ds.map(preprocess_test_dataset)\n",
        "for data in test_ds.take(1):\n",
        "  print(data)\n",
        "  print(tf.math.reduce_max(data))\n",
        "  print(tf.math.reduce_min(data))\n",
        "  plt.axis(False)\n",
        "  plt.imshow(tf.reshape(data, (128, 128)))"
      ],
      "metadata": {
        "colab": {
          "base_uri": "https://localhost:8080/",
          "height": 1000
        },
        "id": "PdUAw-ncyW_K",
        "outputId": "221cca71-3cd9-4247-efe8-ac050422781e"
      },
      "execution_count": 119,
      "outputs": [
        {
          "output_type": "stream",
          "name": "stdout",
          "text": [
            "tf.Tensor(\n",
            "[[[0.]\n",
            "  [0.]\n",
            "  [0.]\n",
            "  ...\n",
            "  [0.]\n",
            "  [0.]\n",
            "  [0.]]\n",
            "\n",
            " [[0.]\n",
            "  [0.]\n",
            "  [0.]\n",
            "  ...\n",
            "  [0.]\n",
            "  [0.]\n",
            "  [0.]]\n",
            "\n",
            " [[0.]\n",
            "  [0.]\n",
            "  [0.]\n",
            "  ...\n",
            "  [0.]\n",
            "  [0.]\n",
            "  [0.]]\n",
            "\n",
            " ...\n",
            "\n",
            " [[0.]\n",
            "  [0.]\n",
            "  [0.]\n",
            "  ...\n",
            "  [0.]\n",
            "  [0.]\n",
            "  [0.]]\n",
            "\n",
            " [[0.]\n",
            "  [0.]\n",
            "  [0.]\n",
            "  ...\n",
            "  [0.]\n",
            "  [0.]\n",
            "  [0.]]\n",
            "\n",
            " [[0.]\n",
            "  [0.]\n",
            "  [0.]\n",
            "  ...\n",
            "  [0.]\n",
            "  [0.]\n",
            "  [0.]]], shape=(128, 128, 1), dtype=float32)\n",
            "tf.Tensor(1.0, shape=(), dtype=float32)\n",
            "tf.Tensor(0.0, shape=(), dtype=float32)\n"
          ]
        },
        {
          "output_type": "display_data",
          "data": {
            "text/plain": [
              "<Figure size 432x288 with 1 Axes>"
            ],
            "image/png": "[encoded data removed]"
          },
          "metadata": {
            "needs_background": "light"
          }
        }
      ]
    },
    {
      "cell_type": "code",
      "source": [
        "def configure_for_performance(ds, batch_size):\n",
        "  ds = ds.cache()\n",
        "  ds = ds.shuffle(buffer_size=1000)\n",
        "  ds = ds.batch(batch_size)\n",
        "  ds = ds.prefetch(buffer_size=AUTOTUNE)\n",
        "  return ds"
      ],
      "metadata": {
        "id": "GS9hyyOTgOj2"
      },
      "execution_count": 109,
      "outputs": []
    },
    {
      "cell_type": "code",
      "source": [
        "train_ds = configure_for_performance(train_ds, 32)"
      ],
      "metadata": {
        "id": "1SqMmnp4ggEV"
      },
      "execution_count": 111,
      "outputs": []
    },
    {
      "cell_type": "markdown",
      "source": [
        "## Train Model"
      ],
      "metadata": {
        "id": "0l8t_iH85wnp"
      }
    },
    {
      "cell_type": "code",
      "source": [
        "model = tf.keras.models.Sequential([\n",
        "  # keras.layers.Conv2D(16, 3, input_shape=(128, 128, 1)),\n",
        "  # keras.layers.MaxPool2D(),\n",
        "  # keras.layers.Conv2D(32, 3),\n",
        "  # keras.layers.MaxPool2D(),\n",
        "  # keras.layers.Conv2D(64, 3),\n",
        "  # keras.layers.MaxPool2D(),\n",
        "  keras.layers.Flatten(input_shape=(128, 128, 1)),\n",
        "  # keras.layers.Dense(16, activation='relu'),\n",
        "  # keras.layers.Dense(16, activation='relu'),\n",
        "  keras.layers.Dense(6, activation='softmax')\n",
        "])"
      ],
      "metadata": {
        "id": "iQIAHRa2JaUl"
      },
      "execution_count": 107,
      "outputs": []
    },
    {
      "cell_type": "code",
      "source": [
        "model.summary()"
      ],
      "metadata": {
        "colab": {
          "base_uri": "https://localhost:8080/"
        },
        "id": "B7GCeQBIKgMJ",
        "outputId": "0aa614fe-4377-4143-e59a-e90cb50b172a"
      },
      "execution_count": 108,
      "outputs": [
        {
          "output_type": "stream",
          "name": "stdout",
          "text": [
            "Model: \"sequential_2\"\n",
            "_________________________________________________________________\n",
            " Layer (type)                Output Shape              Param #   \n",
            "=================================================================\n",
            " flatten_2 (Flatten)         (None, 16384)             0         \n",
            "                                                                 \n",
            " dense_4 (Dense)             (None, 6)                 98310     \n",
            "                                                                 \n",
            "=================================================================\n",
            "Total params: 98,310\n",
            "Trainable params: 98,310\n",
            "Non-trainable params: 0\n",
            "_________________________________________________________________\n"
          ]
        }
      ]
    },
    {
      "cell_type": "code",
      "source": [
        "model.compile(optimizer='adam',\n",
        "              loss=tf.losses.SparseCategoricalCrossentropy(from_logits=False), \n",
        "              metrics=['accuracy'])"
      ],
      "metadata": {
        "id": "MM2SMjrdK6aM"
      },
      "execution_count": 113,
      "outputs": []
    },
    {
      "cell_type": "code",
      "source": [
        "model.fit(train_ds, epochs=10, batch_size=32)"
      ],
      "metadata": {
        "colab": {
          "base_uri": "https://localhost:8080/"
        },
        "id": "oxf3FJBjLO4F",
        "outputId": "c22cdbeb-5003-481e-caab-eb175a8a4039"
      },
      "execution_count": 114,
      "outputs": [
        {
          "output_type": "stream",
          "name": "stdout",
          "text": [
            "Epoch 1/10\n",
            "241/241 [==============================] - 4s 10ms/step - loss: 0.0116 - accuracy: 0.9958\n",
            "Epoch 2/10\n",
            "241/241 [==============================] - 2s 9ms/step - loss: 0.0069 - accuracy: 0.9978\n",
            "Epoch 3/10\n",
            "241/241 [==============================] - 2s 9ms/step - loss: 4.3986e-05 - accuracy: 1.0000\n",
            "Epoch 4/10\n",
            "241/241 [==============================] - 3s 10ms/step - loss: 3.5165e-05 - accuracy: 1.0000\n",
            "Epoch 5/10\n",
            "241/241 [==============================] - 1s 6ms/step - loss: 2.7819e-05 - accuracy: 1.0000\n",
            "Epoch 6/10\n",
            "241/241 [==============================] - 1s 6ms/step - loss: 2.4061e-05 - accuracy: 1.0000\n",
            "Epoch 7/10\n",
            "241/241 [==============================] - 1s 6ms/step - loss: 2.0987e-05 - accuracy: 1.0000\n",
            "Epoch 8/10\n",
            "241/241 [==============================] - 1s 6ms/step - loss: 1.8941e-05 - accuracy: 1.0000\n",
            "Epoch 9/10\n",
            "241/241 [==============================] - 1s 6ms/step - loss: 1.7069e-05 - accuracy: 1.0000\n",
            "Epoch 10/10\n",
            "241/241 [==============================] - 1s 6ms/step - loss: 1.5356e-05 - accuracy: 1.0000\n"
          ]
        },
        {
          "output_type": "execute_result",
          "data": {
            "text/plain": [
              "<keras.callbacks.History at 0x7f911a342c50>"
            ]
          },
          "metadata": {},
          "execution_count": 114
        }
      ]
    },
    {
      "cell_type": "code",
      "source": [
        "# train_ds.batch(32)\n",
        "for image_batch, labels_batch in train_ds:\n",
        "  print(image_batch.shape)\n",
        "  print(labels_batch.shape)\n",
        "  # print(model.predict(image_batch))\n",
        "  break\n",
        "\n",
        "next(train_ds.as_numpy_iterator())[1].shape"
      ],
      "metadata": {
        "colab": {
          "base_uri": "https://localhost:8080/"
        },
        "id": "F9_0bvCSXXRN",
        "outputId": "1cda2edc-f8c4-4afb-b71f-d18319d9acc7"
      },
      "execution_count": 83,
      "outputs": [
        {
          "output_type": "stream",
          "name": "stdout",
          "text": [
            "(128, 128, 1)\n",
            "(6,)\n"
          ]
        },
        {
          "output_type": "execute_result",
          "data": {
            "text/plain": [
              "(6,)"
            ]
          },
          "metadata": {},
          "execution_count": 83
        }
      ]
    },
    {
      "cell_type": "markdown",
      "source": [
        "## Model Evaluation"
      ],
      "metadata": {
        "id": "RUSWBc4f5Rxj"
      }
    },
    {
      "cell_type": "code",
      "source": [
        "test_predicted = model.predict(test_ds, batch_size=32)"
      ],
      "metadata": {
        "id": "VOC2JHG2zASv"
      },
      "execution_count": 135,
      "outputs": []
    },
    {
      "cell_type": "code",
      "source": [
        "predicted = np.argmax(test_predicted, axis=1)\n",
        "compound_ds = tf.data.Dataset.zip((test_ds, tf.data.Dataset.from_tensor_slices(tf.convert_to_tensor(predicted))))"
      ],
      "metadata": {
        "id": "G70LmRZM18e5"
      },
      "execution_count": 144,
      "outputs": []
    },
    {
      "cell_type": "code",
      "source": [
        "i = 0\n",
        "plt.figure(figsize=(10, 15))\n",
        "for im in test_ds.take(25):\n",
        "  p = np.argmax(model.predict(tf.reshape(im, (1, 128, 128, 1))), axis=1)\n",
        "  plt.subplot(5, 5, i+1)\n",
        "  plt.tight_layout()\n",
        "  plt.title(f\"{p}\")\n",
        "  plt.axis(False)\n",
        "  plt.imshow(tf.reshape(im, (128, 128)))\n",
        "  i += 1"
      ],
      "metadata": {
        "colab": {
          "base_uri": "https://localhost:8080/",
          "height": 979
        },
        "id": "zNd46ztx2cbt",
        "outputId": "8403a742-578e-4133-95d2-f55390dd3801"
      },
      "execution_count": 162,
      "outputs": [
        {
          "output_type": "display_data",
          "data": {
            "text/plain": [
              "<Figure size 720x1080 with 23 Axes>"
            ],
            "image/png": "[encoded data removed]"
          },
          "metadata": {
            "needs_background": "light"
          }
        }
      ]
    }
  ]
}